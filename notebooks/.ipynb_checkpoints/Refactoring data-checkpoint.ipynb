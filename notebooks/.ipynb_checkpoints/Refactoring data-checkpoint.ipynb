{
 "cells": [
  {
   "cell_type": "code",
   "execution_count": 11,
   "metadata": {},
   "outputs": [
    {
     "name": "stdout",
     "output_type": "stream",
     "text": [
      "['id', 'premise', 'hypothesis', 'lang_abv', 'language', 'label']\n"
     ]
    }
   ],
   "source": [
    "import csv\n",
    "\n",
    "def get_relevant_info(line):\n",
    "    return [\"\".join([line[1], line[2], line[3]]), line[-1]]\n",
    "\n",
    "\n",
    "with open(\"../data/train.csv\", encoding=\"utf-8\") as file:\n",
    "    trainCsv = csv.reader(file)\n",
    "    trainRaw = []\n",
    "    print(next(trainCsv))\n",
    "    for line in trainCsv:\n",
    "        trainRaw.append(get_relevant_info(line))\n",
    "        \n",
    "with open(\"../data/test.csv\", encoding=\"utf-8\") as file:\n",
    "    testCsv = csv.reader(file)\n",
    "    testRaw = []\n",
    "    next(testCsv)\n",
    "    for line in testCsv:\n",
    "        testRaw.append(get_relevant_info(line))"
   ]
  },
  {
   "cell_type": "code",
   "execution_count": null,
   "metadata": {},
   "outputs": [],
   "source": [
    "def process(rawData):\n",
    "    # ['id', 'premise', 'hypothesis', 'lang_abv', 'language', 'label']\n",
    "    ret = []\n",
    "    for row in "
   ]
  }
 ],
 "metadata": {
  "kernelspec": {
   "display_name": "Python 3",
   "language": "python",
   "name": "python3"
  },
  "language_info": {
   "codemirror_mode": {
    "name": "ipython",
    "version": 3
   },
   "file_extension": ".py",
   "mimetype": "text/x-python",
   "name": "python",
   "nbconvert_exporter": "python",
   "pygments_lexer": "ipython3",
   "version": "3.7.0"
  }
 },
 "nbformat": 4,
 "nbformat_minor": 2
}
