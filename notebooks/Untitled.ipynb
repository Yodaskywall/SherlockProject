{
 "cells": [
  {
   "cell_type": "code",
   "execution_count": 28,
   "id": "c7e9e746-d03d-4642-b96b-517b4aac4d05",
   "metadata": {},
   "outputs": [],
   "source": [
    "import torch\n",
    "import torch.nn as nn\n",
    "from torch.nn import functional as F\n",
    "import pickle\n",
    "import matplotlib.pyplot as plt"
   ]
  },
  {
   "cell_type": "code",
   "execution_count": 14,
   "id": "8abbec19-45e8-4283-a542-842961fde978",
   "metadata": {},
   "outputs": [],
   "source": [
    "DEVICE = 'cuda' if torch.cuda.is_available() else 'cpu'\n",
    "\n",
    "# MODEL HYPERPARAMETERS\n",
    "N_EMBD = 700\n",
    "N_HEADS = 7\n",
    "MAX_LENGTH = 300\n",
    "N_LAYERS = 6\n",
    "DROPOUT = 0.2"
   ]
  },
  {
   "cell_type": "code",
   "execution_count": 94,
   "id": "b1ff8ea6-e433-429b-969b-0d47d0304706",
   "metadata": {},
   "outputs": [],
   "source": [
    "with open(\"../data/processed_train.pickle\", \"rb\") as file:\n",
    "    sentences, segments, targets = pickle.load(file)"
   ]
  },
  {
   "cell_type": "code",
   "execution_count": 30,
   "id": "0996cf3b-89fb-4e48-9ebb-90453d0be83f",
   "metadata": {},
   "outputs": [
    {
     "data": {
      "text/plain": [
       "(array([6.220e+02, 1.565e+03, 1.951e+03, 1.941e+03, 1.726e+03, 1.438e+03,\n",
       "        1.175e+03, 7.300e+02, 4.120e+02, 2.530e+02, 1.470e+02, 7.200e+01,\n",
       "        4.600e+01, 1.800e+01, 1.300e+01, 3.000e+00, 1.000e+00, 0.000e+00,\n",
       "        3.000e+00, 4.000e+00]),\n",
       " array([ 11.  ,  24.15,  37.3 ,  50.45,  63.6 ,  76.75,  89.9 , 103.05,\n",
       "        116.2 , 129.35, 142.5 , 155.65, 168.8 , 181.95, 195.1 , 208.25,\n",
       "        221.4 , 234.55, 247.7 , 260.85, 274.  ]),\n",
       " <BarContainer object of 20 artists>)"
      ]
     },
     "execution_count": 30,
     "metadata": {},
     "output_type": "execute_result"
    },
    {
     "data": {
      "image/png": "[encoded data removed]",
      "text/plain": [
       "<Figure size 640x480 with 1 Axes>"
      ]
     },
     "metadata": {},
     "output_type": "display_data"
    }
   ],
   "source": [
    "plt.hist([len(sentence) for sentence in sentences], 20)"
   ]
  },
  {
   "cell_type": "code",
   "execution_count": 84,
   "id": "b2e47984-5045-4785-a825-a4d5dcd4b24b",
   "metadata": {},
   "outputs": [],
   "source": [
    "class tokenizer:\n",
    "    def __init__(self):\n",
    "        self.pad_token = 5002"
   ]
  },
  {
   "cell_type": "code",
   "execution_count": 96,
   "id": "9576ae0b-9638-49a5-86e8-2d187a1e87ab",
   "metadata": {},
   "outputs": [],
   "source": [
    "\n",
    "def pad(tokenizer, sentences, segments):\n",
    "        sentences = torch.stack([F.pad(torch.tensor(sentence, dtype=torch.long), (0,MAX_LENGTH-len(sentence)),\n",
    "                              value=tokenizer.pad_token) for sentence in sentences])\n",
    "        segments = torch.stack([F.pad(torch.tensor(segment, dtype=torch.long), (0,MAX_LENGTH-len(segment)),\n",
    "                              value=0) for segment in segments])\n",
    "        sentences, segments = sentences.to(DEVICE), segments.to(DEVICE)\n",
    "        return (sentences, segments)  "
   ]
  },
  {
   "cell_type": "code",
   "execution_count": 97,
   "id": "a3cd9a18-0fbd-4ba3-9ca1-5c424e9f9063",
   "metadata": {
    "scrolled": true
   },
   "outputs": [],
   "source": [
    "sentences, segments = pad(tokenizer(), sentences, segments)\n",
    "targets = torch.tensor(targets, device=DEVICE, dtype=torch.long)"
   ]
  },
  {
   "cell_type": "code",
   "execution_count": 87,
   "id": "49bdd9ff-5470-457b-a737-07515eb53bcc",
   "metadata": {},
   "outputs": [
    {
     "data": {
      "text/plain": [
       "torch.Size([12120, 300])"
      ]
     },
     "execution_count": 87,
     "metadata": {},
     "output_type": "execute_result"
    }
   ],
   "source": [
    "sentences.shape"
   ]
  },
  {
   "cell_type": "code",
   "execution_count": 198,
   "id": "cc9bb80a-ba22-4aeb-b1d3-09f2b598ae6b",
   "metadata": {},
   "outputs": [],
   "source": [
    "n_masks = int(MAX_LENGTH * 0.2)"
   ]
  },
  {
   "cell_type": "code",
   "execution_count": 199,
   "id": "01647b48-326a-4d81-9089-17e59b2746de",
   "metadata": {},
   "outputs": [
    {
     "data": {
      "text/plain": [
       "torch.Size([12120, 60])"
      ]
     },
     "execution_count": 199,
     "metadata": {},
     "output_type": "execute_result"
    }
   ],
   "source": [
    "ix = torch.randint(MAX_LENGTH - 1, (sentences.shape[0], n_masks))\n",
    "ix.shape"
   ]
  },
  {
   "cell_type": "code",
   "execution_count": 200,
   "id": "b28873de-aaf0-47e3-b7b8-43bbe6c2f96c",
   "metadata": {},
   "outputs": [],
   "source": [
    "mask = torch.zeros_like(sentences)"
   ]
  },
  {
   "cell_type": "code",
   "execution_count": 201,
   "id": "726f6129-d424-4094-bda9-009b1fc1acf7",
   "metadata": {},
   "outputs": [],
   "source": [
    "for i in range(12120):\n",
    "    mask[i, ix[i]] = 1"
   ]
  },
  {
   "cell_type": "code",
   "execution_count": 209,
   "id": "988bf30d-fc96-4912-a750-d73e91e9134f",
   "metadata": {},
   "outputs": [
    {
     "data": {
      "text/plain": [
       "tensor([0, 0, 0, 0, 0, 0, 1, 0, 0, 1, 0, 0, 1, 0, 0, 0, 0, 0, 0, 0, 0, 0, 0, 0,\n",
       "        0, 0, 0, 1, 0, 0, 0, 0, 0, 0, 0, 0, 1, 0, 0, 0, 0], device='cuda:0')"
      ]
     },
     "execution_count": 209,
     "metadata": {},
     "output_type": "execute_result"
    }
   ],
   "source": [
    "mask[1,3:44]"
   ]
  },
  {
   "cell_type": "code",
   "execution_count": 207,
   "id": "d5e642d0-9b04-4719-9862-b625b440b0b1",
   "metadata": {},
   "outputs": [
    {
     "data": {
      "text/plain": [
       "tensor([4368,  459, 4219,  382,  448,  272, 1581,  339,  495,  316, 2883,  740,\n",
       "        3059,  115,  315, 2134, 4287,  115,   44, 1145, 1323,   46,   32, 5001,\n",
       "          80,  114,  780,  740, 3059,  115,  459,  485,  286,  731, 4447,  311,\n",
       "        1011,  396, 1596, 4219,   46], device='cuda:0')"
      ]
     },
     "execution_count": 207,
     "metadata": {},
     "output_type": "execute_result"
    }
   ],
   "source": [
    "sentences[1, 3:44]"
   ]
  },
  {
   "cell_type": "code",
   "execution_count": 204,
   "id": "6078696d-33ae-4c74-b4e7-4df99118b335",
   "metadata": {},
   "outputs": [],
   "source": [
    "mask = ((mask & (sentences != 5002)) & (sentences != 5000)) & (sentences != 5001)"
   ]
  },
  {
   "cell_type": "code",
   "execution_count": 205,
   "id": "e219f1d4-3054-46d7-92c8-7b150fe4db08",
   "metadata": {},
   "outputs": [
    {
     "data": {
      "text/plain": [
       "tensor([[False, False, False,  ...,  True,  True,  True],\n",
       "        [False, False, False,  ...,  True,  True,  True],\n",
       "        [False, False, False,  ...,  True,  True,  True],\n",
       "        ...,\n",
       "        [False, False, False,  ...,  True,  True,  True],\n",
       "        [False, False, False,  ...,  True,  True,  True],\n",
       "        [False, False, False,  ...,  True,  True,  True]], device='cuda:0')"
      ]
     },
     "execution_count": 205,
     "metadata": {},
     "output_type": "execute_result"
    }
   ],
   "source": [
    "sentences != 5000"
   ]
  },
  {
   "cell_type": "code",
   "execution_count": 206,
   "id": "c6419291-8cfb-4379-897a-66497d1a58b4",
   "metadata": {},
   "outputs": [
    {
     "data": {
      "text/plain": [
       "tensor([0, 0, 0, 0, 0, 0, 0, 0, 0, 0, 0, 0, 1, 0, 0, 0, 0, 0, 1, 0, 0, 0, 0, 0,\n",
       "        0, 0, 0, 0, 0, 0, 0, 1, 0, 0, 0, 0, 0, 0, 0, 0, 0, 0, 0, 0, 0, 0, 0, 0,\n",
       "        0, 0, 0, 0, 0, 0, 0, 0, 0, 0, 0, 0, 0, 0, 0, 0, 0, 0, 0, 0, 0, 0, 0, 0,\n",
       "        0, 0, 0, 0, 0, 0, 0, 0, 0, 0, 0, 0, 0, 0, 0, 0, 0, 0, 0, 0, 0, 0, 0, 0,\n",
       "        0, 0, 0, 0, 0, 0, 0, 0, 0, 0, 0, 0, 0, 0, 0, 0, 0, 0, 0, 0, 0, 0, 0, 0,\n",
       "        0, 0, 0, 0, 0, 0, 0, 0, 0, 0, 0, 0, 0, 0, 0, 0, 0, 0, 0, 0, 0, 0, 0, 0,\n",
       "        0, 0, 0, 0, 0, 0, 0, 0, 0, 0, 0, 0, 0, 0, 0, 0, 0, 0, 0, 0, 0, 0, 0, 0,\n",
       "        0, 0, 0, 0, 0, 0, 0, 0, 0, 0, 0, 0, 0, 0, 0, 0, 0, 0, 0, 0, 0, 0, 0, 0,\n",
       "        0, 0, 0, 0, 0, 0, 0, 0, 0, 0, 0, 0, 0, 0, 0, 0, 0, 0, 0, 0, 0, 0, 0, 0,\n",
       "        0, 0, 0, 0, 0, 0, 0, 0, 0, 0, 0, 0, 0, 0, 0, 0, 0, 0, 0, 0, 0, 0, 0, 0,\n",
       "        0, 0, 0, 0, 0, 0, 0, 0, 0, 0, 0, 0, 0, 0, 0, 0, 0, 0, 0, 0, 0, 0, 0, 0,\n",
       "        0, 0, 0, 0, 0, 0, 0, 0, 0, 0, 0, 0, 0, 0, 0, 0, 0, 0, 0, 0, 0, 0, 0, 0,\n",
       "        0, 0, 0, 0, 0, 0, 0, 0, 0, 0, 0, 0], device='cuda:0')"
      ]
     },
     "execution_count": 206,
     "metadata": {},
     "output_type": "execute_result"
    }
   ],
   "source": [
    "mask[0]"
   ]
  },
  {
   "cell_type": "code",
   "execution_count": null,
   "id": "f1f99a9c-fe54-4211-99ff-4f93f501fb5f",
   "metadata": {},
   "outputs": [],
   "source": []
  }
 ],
 "metadata": {
  "kernelspec": {
   "display_name": "Python 3 (ipykernel)",
   "language": "python",
   "name": "python3"
  },
  "language_info": {
   "codemirror_mode": {
    "name": "ipython",
    "version": 3
   },
   "file_extension": ".py",
   "mimetype": "text/x-python",
   "name": "python",
   "nbconvert_exporter": "python",
   "pygments_lexer": "ipython3",
   "version": "3.10.10"
  }
 },
 "nbformat": 4,
 "nbformat_minor": 5
}
