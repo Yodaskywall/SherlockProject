{
 "cells": [
  {
   "cell_type": "code",
   "execution_count": 1,
   "id": "1b6b970a-34f6-4e68-ac09-4a5b047a792f",
   "metadata": {},
   "outputs": [],
   "source": [
    "import tiktoken"
   ]
  },
  {
   "cell_type": "code",
   "execution_count": 15,
   "id": "4aeff2ea-21a2-4e28-b3db-9d248b4f3a64",
   "metadata": {},
   "outputs": [],
   "source": [
    "encoding = tiktoken.get_encoding(\"cl100k_base\")\n"
   ]
  },
  {
   "cell_type": "code",
   "execution_count": 16,
   "id": "9189c4ec-44b8-4adf-9d32-6c6b5e090c38",
   "metadata": {},
   "outputs": [
    {
     "data": {
      "text/plain": [
       "<Encoding 'cl100k_base'>"
      ]
     },
     "execution_count": 16,
     "metadata": {},
     "output_type": "execute_result"
    }
   ],
   "source": [
    "encoding"
   ]
  },
  {
   "cell_type": "code",
   "execution_count": 17,
   "id": "f620aa62-7397-45d9-a72f-f2479665748d",
   "metadata": {},
   "outputs": [
    {
     "data": {
      "text/plain": [
       "100276"
      ]
     },
     "execution_count": 17,
     "metadata": {},
     "output_type": "execute_result"
    }
   ],
   "source": [
    "encoding.max_token_value "
   ]
  },
  {
   "cell_type": "code",
   "execution_count": 18,
   "id": "95406107-e734-4bb5-9738-8dc0c3e43519",
   "metadata": {},
   "outputs": [
    {
     "data": {
      "text/plain": [
       "[b'Los',\n",
       " b' \\xc3\\xa1',\n",
       " b'r',\n",
       " b'bo',\n",
       " b'les',\n",
       " b' ver',\n",
       " b'des',\n",
       " b' me',\n",
       " b' enc',\n",
       " b'antan',\n",
       " b',',\n",
       " b' aunque',\n",
       " b' la',\n",
       " b' verdad',\n",
       " b' es',\n",
       " b' que',\n",
       " b' me',\n",
       " b' gust',\n",
       " b'an',\n",
       " b' m\\xc3\\xa1s',\n",
       " b' que',\n",
       " b' sean',\n",
       " b' ros',\n",
       " b'as',\n",
       " b'.']"
      ]
     },
     "execution_count": 18,
     "metadata": {},
     "output_type": "execute_result"
    }
   ],
   "source": [
    "[encoding.decode_single_token_bytes(token) for token in encoding.encode(\"Los árboles verdes me encantan, aunque la verdad es que me gustan más que sean rosas.\")]"
   ]
  },
  {
   "cell_type": "code",
   "execution_count": 19,
   "id": "16bdfe58-fbd5-4506-afb8-4e939944ea34",
   "metadata": {},
   "outputs": [
    {
     "data": {
      "text/plain": [
       "[30696,\n",
       " 19216,\n",
       " 81,\n",
       " 754,\n",
       " 645,\n",
       " 2807,\n",
       " 5919,\n",
       " 757,\n",
       " 3289,\n",
       " 67289,\n",
       " 11,\n",
       " 59466,\n",
       " 1208,\n",
       " 82271,\n",
       " 1560,\n",
       " 1744,\n",
       " 757,\n",
       " 30914,\n",
       " 276,\n",
       " 11158,\n",
       " 1744,\n",
       " 85522,\n",
       " 27282,\n",
       " 300,\n",
       " 13]"
      ]
     },
     "execution_count": 19,
     "metadata": {},
     "output_type": "execute_result"
    }
   ],
   "source": [
    "encoding.encode(\"Los árboles verdes me encantan, aunque la verdad es que me gustan más que sean rosas.\")"
   ]
  },
  {
   "cell_type": "code",
   "execution_count": null,
   "id": "7bf5b973-7deb-469d-91ea-864183ccd34c",
   "metadata": {},
   "outputs": [],
   "source": []
  }
 ],
 "metadata": {
  "kernelspec": {
   "display_name": "Python 3 (ipykernel)",
   "language": "python",
   "name": "python3"
  },
  "language_info": {
   "codemirror_mode": {
    "name": "ipython",
    "version": 3
   },
   "file_extension": ".py",
   "mimetype": "text/x-python",
   "name": "python",
   "nbconvert_exporter": "python",
   "pygments_lexer": "ipython3",
   "version": "3.10.10"
  }
 },
 "nbformat": 4,
 "nbformat_minor": 5
}
